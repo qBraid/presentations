{
 "cells": [
  {
   "cell_type": "markdown",
   "metadata": {
    "cellId": "c3351d72-dad1-4214-b624-006b1eb230a6",
    "slideshow": {
     "slide_type": "slide"
    }
   },
   "source": [
    "<img src=\"assets/qbraid-logo.png\"\n",
    "    height=\"10\" width=\"60\" \n",
    "     style=\"float: left; vertical-align:top; margin-right: 40px; margin-left: 10px;\" />\n",
    "\n",
    "\n",
    "<center><font size=8 color='#7d159e'><b>Aloha, Quantum World!</b> </font></center>"
   ]
  },
  {
   "cell_type": "markdown",
   "metadata": {},
   "source": [
    "<img src=\"./JPMC/slide1.png\" height=\"600\" width=\"700\" />"
   ]
  },
  {
   "cell_type": "markdown",
   "metadata": {},
   "source": [
    "<img src=\"./JPMC/slide2.png\" height=\"600\" width=\"700\" />"
   ]
  },
  {
   "cell_type": "markdown",
   "metadata": {},
   "source": [
    "<img src=\"./JPMC/slide3.png\" height=\"600\" width=\"700\" />"
   ]
  },
  {
   "cell_type": "markdown",
   "metadata": {},
   "source": [
    "<img src=\"./JPMC/slide4.png\" height=\"600\" width=\"700\" />"
   ]
  },
  {
   "cell_type": "markdown",
   "metadata": {},
   "source": [
    "<img src=\"./JPMC/slide5.png\" height=\"600\" width=\"700\" />"
   ]
  },
  {
   "cell_type": "markdown",
   "metadata": {},
   "source": [
    "<img src=\"./JPMC/slide6.png\" height=\"600\" width=\"700\" />"
   ]
  },
  {
   "cell_type": "markdown",
   "metadata": {},
   "source": [
    "<img src=\"./JPMC/slide7.png\" height=\"600\" width=\"700\" />"
   ]
  },
  {
   "cell_type": "markdown",
   "metadata": {},
   "source": [
    "<img src=\"./JPMC/slide8.png\" height=\"600\" width=\"700\" />"
   ]
  },
  {
   "cell_type": "markdown",
   "metadata": {},
   "source": [
    "<img src=\"./JPMC/slide9.png\" height=\"600\" width=\"700\" />"
   ]
  },
  {
   "cell_type": "markdown",
   "metadata": {},
   "source": [
    "<img src=\"./JPMC/slide10.png\" height=\"600\" width=\"700\" />"
   ]
  },
  {
   "cell_type": "markdown",
   "metadata": {},
   "source": [
    "<img src=\"./JPMC/slide11.png\" height=\"600\" width=\"700\" />"
   ]
  },
  {
   "cell_type": "markdown",
   "metadata": {},
   "source": [
    "<img src=\"./JPMC/slide12.png\" height=\"600\" width=\"700\" />"
   ]
  },
  {
   "cell_type": "markdown",
   "metadata": {},
   "source": [
    "<img src=\"./JPMC/slide13.png\" height=\"600\" width=\"700\" />"
   ]
  },
  {
   "cell_type": "markdown",
   "metadata": {},
   "source": [
    "<img src=\"./JPMC/slide14.png\" height=\"600\" width=\"700\" />"
   ]
  },
  {
   "cell_type": "markdown",
   "metadata": {},
   "source": [
    "<img src=\"./JPMC/slide15.png\" height=\"600\" width=\"700\" />"
   ]
  },
  {
   "cell_type": "markdown",
   "metadata": {},
   "source": [
    "<img src=\"./JPMC/slide16.png\" height=\"600\" width=\"700\" />"
   ]
  },
  {
   "cell_type": "markdown",
   "metadata": {},
   "source": [
    "<img src=\"./JPMC/slide17.png\" height=\"600\" width=\"700\" />"
   ]
  },
  {
   "cell_type": "markdown",
   "metadata": {},
   "source": [
    "<img src=\"./JPMC/slide18.png\" height=\"600\" width=\"700\" />"
   ]
  },
  {
   "cell_type": "markdown",
   "metadata": {},
   "source": [
    "<img src=\"./JPMC/slide19.png\" height=\"600\" width=\"700\" />"
   ]
  },
  {
   "cell_type": "markdown",
   "metadata": {},
   "source": [
    "<img src=\"./JPMC/slide20.png\" height=\"600\" width=\"700\" />"
   ]
  },
  {
   "cell_type": "markdown",
   "metadata": {},
   "source": [
    "<img src=\"./JPMC/slide21.png\" height=\"600\" width=\"700\" />"
   ]
  },
  {
   "cell_type": "markdown",
   "metadata": {},
   "source": [
    "<img src=\"./JPMC/slide22.png\" height=\"600\" width=\"700\" />"
   ]
  },
  {
   "cell_type": "markdown",
   "metadata": {},
   "source": [
    "<img src=\"./JPMC/slide23.png\" height=\"600\" width=\"700\" />"
   ]
  },
  {
   "cell_type": "markdown",
   "metadata": {
    "cellId": "09a39cf6-fc49-4160-ba6d-a987edf8d909",
    "slideshow": {
     "slide_type": "skip"
    }
   },
   "source": [
    "\n",
    "'Hello, World!' has been the most iconic computer program. There is a good chance that you, our reader, also began your journey in the world of programming by printing 'Hello, World!' on your screen. In this article, we aim to develop a quantum version of the 'Hello, World!' program that we call 'Aloha, Quantum World!'. Before we do that, let us discuss the significance of the traditional \"Hello, World!\" program.\n"
   ]
  },
  {
   "cell_type": "markdown",
   "metadata": {
    "cellId": "156bd793-eff2-4cdb-8381-9481a33f2a92",
    "slideshow": {
     "slide_type": "slide"
    }
   },
   "source": [
    "The Hello world program was developed by Brian Kernighan, in 1974. Its purpose was to be\n",
    "- the simplest possible program for the language\n",
    "- a demonstration of the syntax for a particular language \n",
    "- and to check everything is working correctly. Remember these were the days when people were still figuring out how to connect a display device to a computer. So, the program also checked if the program compiled correctly and if the connection to the input and output devices (such as a monitor) is not erring.\n"
   ]
  },
  {
   "cell_type": "markdown",
   "metadata": {
    "cellId": "65700e48-0591-4091-9532-1fd93353629e",
    "slideshow": {
     "slide_type": "subslide"
    }
   },
   "source": [
    "\n",
    "Following the reasoning behind the classical 'Hello, World!', let us discuss what we would want to accomplish with quantum 'Hello, World!'\n",
    "- Similar to 'Hello, World!' we would want it to be the simplest quantum program. And, our version of quantum 'Hello, World!' is called 'Aloha, World!'.\n",
    "- 'Aloha, World!' should go through the quantum software and hardware layer to ensure the faithfulness of the stack.\n",
    "- Then, we want to go one step further. If you look into the details of 'Aloha, World!', it should present to you the details for how quantum computing is fundamentally different than classical computing.\n",
    "\n"
   ]
  },
  {
   "cell_type": "markdown",
   "metadata": {
    "cellId": "2222a4ed-6f5d-41b8-a77e-37fe14d7bd99",
    "slideshow": {
     "slide_type": "subslide"
    }
   },
   "source": [
    "A few more comments about the state of quantum computers now compared to the state of classical computers when the 'Hello, World!' was developed. \n",
    "- The number of transistors in a microprocessor were in a few thousands in 1970s compared to a few ten's of qubits available in quantum computers currently.\n",
    "- People were starting develop high level languages for programming classical computers. 'Hello, World!' was first reference in 'B' a predecessor to the language 'C'. In comparison, most quantum computers are being programmed using python. \n",
    "\n",
    "\n",
    "Now, let us present to you the 'Aloha, Quantum World!' program. The function is called using the following piece of code:"
   ]
  },
  {
   "cell_type": "code",
   "execution_count": 5,
   "metadata": {
    "cellId": "43bd9e34-e77d-443b-af20-de03b3a1f17c",
    "slideshow": {
     "slide_type": "slide"
    }
   },
   "outputs": [
    {
     "name": "stdout",
     "output_type": "stream",
     "text": [
      "Hello World!\n"
     ]
    }
   ],
   "source": [
    "print('Hello World!')"
   ]
  },
  {
   "cell_type": "code",
   "execution_count": 44,
   "metadata": {
    "cellId": "d73f4151-2c77-4d90-b203-467dd077385c",
    "slideshow": {
     "slide_type": "fragment"
    }
   },
   "outputs": [
    {
     "name": "stdout",
     "output_type": "stream",
     "text": [
      "Bye World!\n"
     ]
    }
   ],
   "source": [
    "from demo_funcs import aloha_quantum_world\n",
    "# aloha_quantum_world()\n",
    "aloha_quantum_world('quantum')\n",
    "# aloha_quantum_world('quantum')"
   ]
  },
  {
   "cell_type": "markdown",
   "metadata": {
    "cellId": "b9759155-f277-491b-8941-59071eb15770",
    "slideshow": {
     "slide_type": "skip"
    }
   },
   "source": [
    "Just like the classical 'Hello, World!' program, it is a simple program. If it is called without input, it always outputs 'Hello, World!'. But, if 'quantum' is passed as input then, it sometimes outputs the 'Hello, World!' and other times it outputs 'Bye, World!'. This is the reason why we thought naming this article 'Aloha, Quantum World!' was apt. If ran enough number of times, one will observe that the program in-fact prints 'Hello, World!' and 'Bye, World!' 50% of the time. We encourage you to play with the code to convince yourself.\n",
    "\n",
    "Now, you may ponder as to what may be going on behind the scenes in the program. Since the program seems to be printing 'Hello, World!' and 'Bye, World!' with 50% probability, your initial guess maybe that it is similar to a coin flip, And yes, it is similar but not quite! First, note that in the macroscopic world for which we have built our intuition, probability arises out of incomplete knowledge of a given system. e.g. in the case of a coin flip, if all the parameters for the coin flip are known, like the force with which it was flipped, the exact force of gravity, friction due to air, etc. then theoretically it will be possible to predict whether it will turn up heads or tails. But, because you don't know these parameters, the best you can do is predict with some probabilities. Again, I want you to appreciate that in the  classical world probabilities arise out of not knowing.\n",
    "\n",
    "Another important detail to note is that when the coin lands on the ground, it lands on either heads or tails. Let us say that you toss a coin in a dark room where you can't see whether the heads or tails have turned up. Even before you turn on the light to look, you can be sure that it is either heads or tails, it cannot be both at the same time.\n",
    "\n",
    "The program `aloha_quantum_world('quantum')` that we ran above is non-compliant with the two points that we just mentioned. The program uses a qubit or quantum bit in a 'superposition' of being '0' and '1'. \n",
    "Qubit is a quantum analog of a bit. A qubit could behave like a bit but also allows for more exotic behavior.\n",
    "Quantum Superposition, in very simple terms, is the property of quantum systems which allow them to be in two distinct states at the same time. When measured, the qubit returns, either 0 or 1. \n",
    "Corresponding to the two points we mentioned for a coin, note the following points for a qubit in superposition:\n",
    "First, even with complete knowledge of the state of a qubit, knowing everything that there is to be known for a state of a qubit, we will still not be able to predict the outcome. In fact, the universe itself does not 'know' whether the qubit will return 0 or 1 when measured. The probability in quantum systems does not arise from 'not knowing' but is actually built into the fabric of nature.\n",
    "Second, the qubit in the state of equal superposition of '0' and '1', is not like a coin lying on the ground in a dark room where it is one of those but we just don't know, but it is both '0' and '1' at the same time!!\n",
    "\n",
    "It is understandable if you are shaking your head in disbelief and asking yourself, 'How could this be?'. You are not alone in asking this question and the answer is: 'It is just the way nature is, and quantum mechanics is a theory based on observations.'. To learn more about quantum computation, we invite you to take our [QuBes Course](./Qubes_course/0_Introduction.ipynb) (quantum beginners) course on qBraid.com. We introduce all the background material and teach you quantum computing. The background material will cover the experiments that convinced physicist that,\n",
    "nature is probabilistic, and\n",
    "a qubit in superposition is both '0' and '1' at the same time. The superposition of a qubit could be leveraged to make quantum algorithms faster than their classical counterparts. One such algorithm covered in QuBes course is Deutsch's algorithm. You will be able to run the algorithm on IBM's actual quantum computer to see it in action!"
   ]
  },
  {
   "cell_type": "markdown",
   "metadata": {
    "cellId": "a5ace1c4-c00e-4a29-bc6c-e4ff64502cb4",
    "slideshow": {
     "slide_type": "slide"
    }
   },
   "source": [
    "<center><font size=5 color='#7d159e'><b>Behind the scenes of \"Aloha, Quantum World!\"</b> </font></center>\n"
   ]
  },
  {
   "cell_type": "markdown",
   "metadata": {
    "cellId": "fb4d3cd9-0d86-4a71-95e0-992cfd64f70f",
    "slideshow": {
     "slide_type": "skip"
    }
   },
   "source": [
    "In this section, we present details for the inner workings of the `aloha_quantum_world('quantum')` program. Before, we present the details, let us present a different version of the classical 'Hello, World!' program. This would help us better understand the quantum program by brining out the contrast.\n",
    "\n",
    "The following is a python program which is a varriant of Hello World. Here, the string 'Hello World' is associated with the state '0' of a Bool variable, and 'Bye World' is associated with the state '1'. Our aim here is to associate the strings with the values of a bit (done using the type Bool in python), which is the fundamental unit of information in classical computing. The program takes as an input a bit value and outputs the corresponding string."
   ]
  },
  {
   "cell_type": "code",
   "execution_count": 45,
   "metadata": {
    "cellId": "224fb077-3ea9-420a-aeb7-45a51a90741b",
    "slideshow": {
     "slide_type": "slide"
    }
   },
   "outputs": [
    {
     "name": "stdout",
     "output_type": "stream",
     "text": [
      "========================\n",
      "       Hello, World!\n",
      "========================\n",
      "========================\n",
      "       Bye, World!\n",
      "========================\n"
     ]
    }
   ],
   "source": [
    "def hello_bye_world(bit_val):\n",
    "    if bit_val==0:\n",
    "        print('========================')\n",
    "        print('       Hello, World!')\n",
    "        print('========================')\n",
    "    elif bit_val==1:\n",
    "        print('========================')\n",
    "        print('       Bye, World!')\n",
    "        print('========================')\n",
    "        \n",
    "hello_bye_world(0)\n",
    "hello_bye_world(1)"
   ]
  },
  {
   "cell_type": "markdown",
   "metadata": {
    "cellId": "bde8a18f-080e-455a-b2d5-b018c913c9cb",
    "slideshow": {
     "slide_type": "skip"
    }
   },
   "source": [
    "It is easy to see that the bit can only have two values, 0 and 1. So, the function could run with only two inputs, as demonstrated above. We now ask, what are the different operations possible on a bit. \n",
    "\n",
    "Note 1: we wrote the program that takes an input bit and returns a string corresponding to the bit value.\n",
    "\n",
    "Now, we ask, what are the possible operations that can be performed on a bit? And it can be seen that the only non-trivial operation possible on a bit is the bit-flip, where one changes the value of the bit, $0 \\rightarrow 1$ and $0 \\rightarrow 1$. We can write the code for a function that implements the bit flip operation:"
   ]
  },
  {
   "cell_type": "code",
   "execution_count": 46,
   "metadata": {
    "cellId": "4f21c95e-5f70-4b46-9f5b-3c0b1b49c9b3",
    "slideshow": {
     "slide_type": "slide"
    }
   },
   "outputs": [],
   "source": [
    "def bit_flip(bit_val):\n",
    "    return not bit_val"
   ]
  },
  {
   "cell_type": "markdown",
   "metadata": {
    "cellId": "b3eaae0a-f4e1-40fa-ab1c-2fe73232a716",
    "slideshow": {
     "slide_type": "skip"
    }
   },
   "source": [
    "We can use this bit-flip function in conjunction with our hello_bye_world() function, to turn a hello world into a bye world."
   ]
  },
  {
   "cell_type": "code",
   "execution_count": 47,
   "metadata": {
    "cellId": "f8e366b3-03d1-4bc9-925e-d29d50211c57",
    "slideshow": {
     "slide_type": "fragment"
    }
   },
   "outputs": [
    {
     "name": "stdout",
     "output_type": "stream",
     "text": [
      "========================\n",
      "       Hello, World!\n",
      "========================\n",
      "========================\n",
      "       Bye, World!\n",
      "========================\n"
     ]
    }
   ],
   "source": [
    "bit_val=0\n",
    "hello_bye_world(bit_val)\n",
    "bit_val=bit_flip(bit_val)\n",
    "hello_bye_world(bit_val)"
   ]
  },
  {
   "cell_type": "markdown",
   "metadata": {
    "cellId": "73ac3170-1255-44c3-b5d6-456fe523c812",
    "slideshow": {
     "slide_type": "skip"
    }
   },
   "source": [
    "Note 2: The only possible operation on a bit is a bit-flip operation.\n",
    "\n",
    "The program so far, is deterministic. We ask, how can we make a probabilistic 'Hello, World!' program. For that we write a coin flip program which returns each '0' and '1', 50% of the time.\n"
   ]
  },
  {
   "cell_type": "code",
   "execution_count": 48,
   "metadata": {
    "cellId": "f1f79547-33ec-4e69-83c3-b9b396c65820",
    "slideshow": {
     "slide_type": "subslide"
    }
   },
   "outputs": [],
   "source": [
    "def coin_flip():\n",
    "    import numpy as np\n",
    "    bit_val = np.random.randint(2)\n",
    "    return bit_val"
   ]
  },
  {
   "cell_type": "markdown",
   "metadata": {
    "cellId": "1f615456-7d5f-4f51-a43a-2c69e5fd756a",
    "slideshow": {
     "slide_type": "skip"
    }
   },
   "source": [
    "With this program we can write a small program for printing 'Hello, World!' and 'Bye, World!' randomly.\n"
   ]
  },
  {
   "cell_type": "code",
   "execution_count": 67,
   "metadata": {
    "cellId": "42d51460-dd1a-4381-9006-1be8ab7c4748",
    "slideshow": {
     "slide_type": "subslide"
    }
   },
   "outputs": [
    {
     "name": "stdout",
     "output_type": "stream",
     "text": [
      "========================\n",
      "       Bye, World!\n",
      "========================\n"
     ]
    }
   ],
   "source": [
    "hello_bye_world(coin_flip())"
   ]
  },
  {
   "cell_type": "markdown",
   "metadata": {
    "cellId": "eee4e245-7542-4b47-b42a-d39c3e8d48cd",
    "slideshow": {
     "slide_type": "skip"
    }
   },
   "source": [
    "It can be checked by running the program multiple times that the outputs are random. \n",
    "\n",
    "Note 3: The randomness in the numbers generated by the numpy package arises out of some incomplete knowledge of the processes in the cpu of your computer.\n",
    "\n",
    "Now, we finally move on to the aloha_quantum_world('quantum') program. Following is the code for the `aloha_quantum_world()`:\n"
   ]
  },
  {
   "cell_type": "code",
   "execution_count": 100,
   "metadata": {
    "cellId": "d77a142a-b19c-4341-a436-f3ea5f709867",
    "slideshow": {
     "slide_type": "slide"
    }
   },
   "outputs": [],
   "source": [
    "def aloha_quantum_world(input_str='classical', applyX=False):\n",
    "    from qiskit import QuantumCircuit, Aer, execute\n",
    "    circ = QuantumCircuit(1,1) \n",
    "    if input_str=='quantum':\n",
    "        circ.h(0)\n",
    "#         circ.h(0)\n",
    "    if applyX:\n",
    "        circ.x(0)\n",
    "    circ.measure([0],[0])\n",
    "\n",
    "    backend_sim = Aer.get_backend('qasm_simulator')\n",
    "    sim = execute(circ, backend_sim, shots=1)\n",
    "    sim_result = sim.result()\n",
    "    counts = sim_result.get_counts(circ)\n",
    "    for key in counts:\n",
    "        if key=='0':\n",
    "            print('Hello World!')\n",
    "        elif key=='1':\n",
    "            print('Bye World!')\n"
   ]
  },
  {
   "cell_type": "markdown",
   "metadata": {
    "cellId": "a32a872d-f10b-4bb7-ab39-17b2cd0c4489",
    "slideshow": {
     "slide_type": "skip"
    }
   },
   "source": [
    "The above program uses a 'qubit' or a quantum bit for two state system. A qubit just like a bit can be '0' or '1' state. If the aloha_quantum_world() is called without an argument, it initializes the qubit in state '0' and measures it. The measurement returns '0' and prints 'Hello, World!'"
   ]
  },
  {
   "cell_type": "code",
   "execution_count": 97,
   "metadata": {
    "cellId": "0cf75523-a7d5-4afe-bbe2-f89f467ab478",
    "slideshow": {
     "slide_type": "subslide"
    }
   },
   "outputs": [
    {
     "name": "stdout",
     "output_type": "stream",
     "text": [
      "Hello World!\n"
     ]
    }
   ],
   "source": [
    "aloha_quantum_world('quantum')"
   ]
  },
  {
   "cell_type": "markdown",
   "metadata": {
    "cellId": "8302b6d3-81fb-4364-a960-604ff4d10880",
    "slideshow": {
     "slide_type": "skip"
    }
   },
   "source": [
    "The `aloha_quantum_world()` can also take an argument for applying an X-gate which is similar to the NOT-gate in classical computing. And it can be seen that the application of `aloha_quantum_world('classical', True)` prints 'Bye, World!'"
   ]
  },
  {
   "cell_type": "code",
   "execution_count": 98,
   "metadata": {
    "cellId": "d912d122-dcb3-4c90-a6e5-e52d17d6a531",
    "slideshow": {
     "slide_type": "fragment"
    }
   },
   "outputs": [
    {
     "name": "stdout",
     "output_type": "stream",
     "text": [
      "Bye World!\n"
     ]
    }
   ],
   "source": [
    "aloha_quantum_world('classical', True)"
   ]
  },
  {
   "cell_type": "markdown",
   "metadata": {
    "cellId": "ace3c16f-9e35-422c-861b-a7c0feb1db76",
    "slideshow": {
     "slide_type": "skip"
    }
   },
   "source": [
    "So, we can establish that the qubits can behave like bits and return the greeting corresponding to the value (Note 1).\n",
    "\n",
    "Recall that the there was only one single-bit possible in classical computing (Note 2). In constrast, quantum computing allows for an infinite number of single qubit gates and states of a qubit which are a superposition of '0' and '1'. Loosely speaking, the superposition implies that the qubit could both '0' and '1' at the same time* until one measures at which point the state of the qubit collapses to being '0' or '1'. \n",
    "\n",
    "Let's run the aloha_quantum_world('quantum'), 5 times.\n",
    "\n",
    "\n",
    "*(for precise definition, we encourage the reader to take the QuBes course on qBraid.com)"
   ]
  },
  {
   "cell_type": "code",
   "execution_count": 102,
   "metadata": {
    "cellId": "b302a874-4a7f-470a-a33f-744c9d25a61a",
    "slideshow": {
     "slide_type": "slide"
    }
   },
   "outputs": [
    {
     "name": "stdout",
     "output_type": "stream",
     "text": [
      "Hello World!\n",
      "Hello World!\n",
      "Bye World!\n",
      "Bye World!\n",
      "Hello World!\n"
     ]
    }
   ],
   "source": [
    "for i in range(5):\n",
    "    aloha_quantum_world('quantum')"
   ]
  },
  {
   "cell_type": "markdown",
   "metadata": {
    "cellId": "ef4ae626-2a61-4def-b152-53a41a31b1e7",
    "slideshow": {
     "slide_type": "skip"
    }
   },
   "source": [
    "If we analyze the code for the aloha_quantum_world(), we see that the H-gate is applied to the qubit if first argument 'quantum' is passed. With H-gate the qubit is put in a state of superposition and prints 'Hello, World!' and 'Bye, World!' with 50% probability. You may ask that how is the behavior of a qubit in a superposition different than a bit whose state is determined by a coin lying on the ground after a flip in a dark room?\n",
    "\n",
    "It will become clear that these two cases are different with the following experiment. If rather than determining the state of the bit with a single coin flip, we were to determine it using two coin flips, one after another, then it can be seen that the state of the bit will remain random. Let us say that the bit starts in state 0 and if we were to determine the state of the bit after two coin flips then the probability of it being in '0' or '1' will still be 50%. \n",
    "In contrast, if we were to start with a qubit in state 0 and apply an H-gate and then apply another H-gate, then the state of the qubit will be '0' with 100% probability. As we saw that above that applying a single H-gate behaves like a coin flip, but surprisingly, two consecutive H-gates cancel each other. This gives you a flavor for why quantum world is different, interesting and may be a little bit bizare. To learn more about quantum computing, you can take the [QuBes Course](./Qubes_course/0_Introduction.ipynb).\n"
   ]
  },
  {
   "cell_type": "markdown",
   "metadata": {
    "cellId": "cbd173fe-c0e8-4fe5-b788-198c8980aaf0",
    "slideshow": {
     "slide_type": "skip"
    }
   },
   "source": [
    "A very simple program with a simple gate. 1 quBit, 1 H[amadar] quantum gate"
   ]
  },
  {
   "cell_type": "markdown",
   "metadata": {
    "slideshow": {
     "slide_type": "slide"
    }
   },
   "source": [
    "<img src=\"./assets/slide10.png\" height=\"650\" width=\"800\" />\n"
   ]
  },
  {
   "cell_type": "markdown",
   "metadata": {
    "slideshow": {
     "slide_type": "slide"
    }
   },
   "source": [
    "<img src=\"./assets/slide11.png\" height=\"650\" width=\"800\" />\n"
   ]
  },
  {
   "cell_type": "markdown",
   "metadata": {
    "slideshow": {
     "slide_type": "slide"
    }
   },
   "source": [
    "<img src=\"./assets/slide13.png\" height=\"650\" width=\"800\" />\n"
   ]
  },
  {
   "cell_type": "markdown",
   "metadata": {
    "slideshow": {
     "slide_type": "slide"
    }
   },
   "source": [
    "<img src=\"./assets/slide14.png\" height=\"650\" width=\"800\" />\n"
   ]
  },
  {
   "cell_type": "markdown",
   "metadata": {
    "slideshow": {
     "slide_type": "slide"
    }
   },
   "source": [
    "# Variational Quantum Eigensolver\n",
    "<img src=\"./assets/slide12.png\" height=\"650\" width=\"600\" />"
   ]
  },
  {
   "cell_type": "code",
   "execution_count": 1,
   "metadata": {
    "cellId": "c1c41d97-c072-4a6f-84d3-a0a561ab703d",
    "slideshow": {
     "slide_type": "slide"
    }
   },
   "outputs": [],
   "source": [
    "# Importing the packages\n",
    "import numpy as np\n",
    "# Importing the driver that lets us access pyscf from qiskit\n",
    "from qiskit.chemistry.drivers import PySCFDriver\n",
    "# Importing the function for exact diagonalization\n",
    "from qiskit.aqua.algorithms import NumPyEigensolver as EE\n",
    "# Import the class fermionicoperator\n",
    "from qiskit.chemistry import FermionicOperator\n",
    "\n"
   ]
  },
  {
   "cell_type": "code",
   "execution_count": 2,
   "metadata": {
    "slideshow": {
     "slide_type": "subslide"
    }
   },
   "outputs": [],
   "source": [
    "# 1. Setting up the system in pyscf and running Hartree-Fock calculation.\n",
    "# Define the molecule\n",
    "molecule = 'H .0 .0 0.0;H .0 .0 0.7414'\n",
    "# Setup the pyscf driver in qiskit\n",
    "driver = PySCFDriver(atom=molecule, basis='sto3g')\n",
    "# Run the pyscf driver\n",
    "qmolecule = driver.run()\n",
    "# get the one-body and two-body integrals\n",
    "one_b = qmolecule.one_body_integrals\n",
    "two_b = qmolecule.two_body_integrals\n",
    "\n",
    "\n",
    "# # 2.Using the integrals obtained from pyscf, to transform\n",
    "# # the Hamiltonian from second quantization formalism to qubit operators.\n",
    "fer_op = FermionicOperator(h1=one_b, h2=two_b)\n",
    "# # transform the fermionic operator to qubit operator\n",
    "qubit_op = fer_op.mapping('jordan_wigner')\n",
    "\n"
   ]
  },
  {
   "cell_type": "code",
   "execution_count": 3,
   "metadata": {
    "slideshow": {
     "slide_type": "subslide"
    }
   },
   "outputs": [
    {
     "name": "stdout",
     "output_type": "stream",
     "text": [
      "IIII\t(-0.8126179630230753+0j)\n",
      "IIIZ\t(0.17119774903432938+0j)\n",
      "IIZI\t(-0.22278593040418504+0j)\n",
      "IZII\t(0.17119774903432944+0j)\n",
      "ZIII\t(-0.22278593040418504+0j)\n",
      "IIZZ\t(0.12054482205301814+0j)\n",
      "IZIZ\t(0.16862219158920955+0j)\n",
      "XXYY\t(0.045322202052874044+0j)\n",
      "YYYY\t(0.045322202052874044+0j)\n",
      "XXXX\t(0.045322202052874044+0j)\n",
      "YYXX\t(0.045322202052874044+0j)\n",
      "ZIIZ\t(0.16586702410589216+0j)\n",
      "IZZI\t(0.16586702410589216+0j)\n",
      "ZIZI\t(0.17434844185575685+0j)\n",
      "ZZII\t(0.12054482205301814+0j)\n",
      "\n"
     ]
    }
   ],
   "source": [
    "\n",
    "\n",
    "# # 3. exact diagonalize the matrix form of the qubit operator\n",
    "result = EE(qubit_op).run()\n",
    "# lines, result = operator.process_algorithm_result(result)\n",
    "energies = result['eigenvalues']\n",
    "\n",
    "# print('One body integrals:', one_b)\n",
    "# print('Two body integrals:', two_b)\n",
    "print(qubit_op.print_details())\n",
    "# print('Distance: ', 0.7414)"
   ]
  },
  {
   "cell_type": "code",
   "execution_count": 4,
   "metadata": {
    "slideshow": {
     "slide_type": "slide"
    }
   },
   "outputs": [],
   "source": [
    "from qiskit.aqua.algorithms import VQE, NumPyEigensolver\n",
    "import matplotlib.pyplot as plt\n",
    "import numpy as np\n",
    "from qiskit.chemistry.components.variational_forms import UCCSD\n",
    "from qiskit.chemistry.components.initial_states import HartreeFock\n",
    "from qiskit.circuit.library import EfficientSU2\n",
    "from qiskit.aqua.components.optimizers import COBYLA, SPSA, SLSQP\n",
    "from qiskit.aqua.operators import Z2Symmetries\n",
    "from qiskit import IBMQ, BasicAer, Aer\n",
    "from qiskit.chemistry.drivers import PySCFDriver, UnitsType\n",
    "from qiskit.chemistry import FermionicOperator\n",
    "from qiskit import IBMQ\n",
    "from qiskit.aqua import QuantumInstance\n",
    "from qiskit.ignis.mitigation.measurement import CompleteMeasFitter\n",
    "from qiskit.providers.aer.noise import NoiseModel\n",
    "from qiskit.chemistry.core import Hamiltonian, TransformationType, QubitMappingType \n",
    "\n",
    "# from qiskit.aqua.operators import WeightedPauliOperator\n",
    "\n",
    "history = {'eval_count': [], 'parameters': [], 'mean': [], 'std': []}\n",
    "\n",
    "def store_intermediate_result(eval_count, parameters, mean, std):\n",
    "    history['eval_count'].append(eval_count)\n",
    "    history['parameters'].append(parameters)\n",
    "    history['mean'].append(mean)\n",
    "    history['std'].append(std)\n",
    "    print(mean)"
   ]
  },
  {
   "cell_type": "code",
   "execution_count": 5,
   "metadata": {
    "slideshow": {
     "slide_type": "subslide"
    }
   },
   "outputs": [],
   "source": [
    "dist = 0.7414\n",
    "\n",
    "\n",
    "driver = PySCFDriver(atom=\"H .0 .0 .0; H .0 .0 \" + str(dist), unit=UnitsType.ANGSTROM, \n",
    "                     charge=0, spin=0, basis='sto3g')\n",
    "molecule = driver.run()\n",
    "backend = BasicAer.get_backend('statevector_simulator')\n",
    "num_particles = molecule.num_alpha + molecule.num_beta\n",
    "num_spin_orbitals = molecule.num_orbitals * 2\n",
    "ferOp = FermionicOperator(h1=molecule.one_body_integrals, h2=molecule.two_body_integrals)\n",
    "qubitOp = ferOp.mapping(map_type='parity', threshold=0.00000001)\n",
    "init_state = HartreeFock(num_orbitals=4,\n",
    "            qubit_mapping='parity',\n",
    "            num_particles=2,two_qubit_reduction=False)\n"
   ]
  },
  {
   "cell_type": "code",
   "execution_count": 6,
   "metadata": {
    "slideshow": {
     "slide_type": "subslide"
    }
   },
   "outputs": [
    {
     "name": "stdout",
     "output_type": "stream",
     "text": [
      "-1.8304383807729576\n",
      "-1.288412294116466\n",
      "-1.2884122941164655\n",
      "-0.5497154513778386\n",
      "-1.2339733796584582\n",
      "-1.672454799088133\n",
      "-1.8068571405155518\n",
      "-1.8340546788048262\n",
      "-1.6867729887722174\n",
      "-1.8423362836713935\n",
      "-1.8134187316973749\n",
      "-1.8264366758939898\n",
      "-1.8476539441156086\n",
      "-1.8447792480189351\n",
      "-1.8462739433628026\n",
      "-1.8500871000055938\n",
      "-1.8502233934923822\n",
      "-1.8495969144385778\n",
      "-1.8505072378793446\n",
      "-1.8506641407666096\n",
      "-1.8507966993043263\n",
      "-1.8502224278500157\n",
      "-1.8509355440926243\n",
      "-1.8509176201600672\n",
      "-1.8507819790912485\n",
      "-1.850876797911552\n",
      "-1.8509625513162442\n",
      "-1.8509372233329322\n",
      "-1.8509268486453647\n",
      "-1.8510054989403488\n",
      "-1.8510224374480568\n",
      "-1.8509952775550906\n",
      "-1.8510202176256763\n",
      "-1.8510177334438074\n",
      "-1.8510215842649549\n",
      "-1.8510232924879777\n",
      "-1.85102311259872\n",
      "-1.85102337173492\n",
      "-1.8510232713528425\n",
      "-1.8510238823655347\n",
      "-1.8510239726433066\n",
      "-1.8510241171344086\n",
      "-1.851024151512103\n",
      "-1.851023854057723\n",
      "-1.8510240740222104\n",
      "-1.8510241175960283\n",
      "-1.851024132703351\n",
      "-1.8510241589944205\n",
      "-1.8510241519619122\n",
      "-1.8510241666840446\n",
      "-1.851024154374537\n",
      "-1.8510241645988776\n",
      "VQE Result: -1.8510241645988776\n"
     ]
    }
   ],
   "source": [
    "var_form = UCCSD(num_orbitals=4, num_particles=2,qubit_mapping='parity',\n",
    "                 two_qubit_reduction=False, shallow_circuit_concat=False,\n",
    "                 initial_state=init_state)\n",
    "optimizer = COBYLA(maxiter=1000)\n",
    "vqe = VQE(qubitOp, var_form, optimizer,callback=store_intermediate_result)\n",
    "\n",
    "ret = vqe.run(backend)\n",
    "vqe_result = np.real(ret['eigenvalue'])\n",
    "print(\"VQE Result:\", vqe_result)\n",
    "\n"
   ]
  },
  {
   "cell_type": "code",
   "execution_count": null,
   "metadata": {},
   "outputs": [],
   "source": [
    "from qbraid_chem_widget import ChemWidget\n",
    "ChemWidget()"
   ]
  },
  {
   "cell_type": "markdown",
   "metadata": {
    "cellId": "4694c2a3-57cd-4759-ac9d-495f810f6c98",
    "slideshow": {
     "slide_type": "slide"
    }
   },
   "source": [
    "<img src=\"qcqc/slide2.png\" height=\"750\" width=\"900\" />"
   ]
  },
  {
   "cell_type": "markdown",
   "metadata": {
    "cellId": "d84dcaef-6300-426f-906e-3d3b5a6f3f1f",
    "slideshow": {
     "slide_type": "slide"
    }
   },
   "source": [
    "<img src=\"qcqc/slide3.png\" height=\"750\" width=\"900\" />"
   ]
  },
  {
   "cell_type": "code",
   "execution_count": 1,
   "metadata": {
    "cellId": "96aed89b-0f9d-4778-8ecf-6a5c5e9f2d19",
    "slideshow": {
     "slide_type": "slide"
    }
   },
   "outputs": [],
   "source": [
    "from qiskit.aqua.operators import Z2Symmetries\n",
    "from qiskit.chemistry.drivers import PySCFDriver, UnitsType\n",
    "from qiskit.chemistry import FermionicOperator\n",
    "\n",
    "dist = 0.7414\n",
    "# dist = 1.5\n",
    "driver = PySCFDriver(atom=\"Li .0 .0 .0; H .0 .0 \" + str(dist), unit=UnitsType.ANGSTROM, charge=0, spin=0, basis='sto3g')\n",
    "molecule = driver.run()\n",
    "\n",
    "num_particles = molecule.num_alpha + molecule.num_beta\n",
    "num_spin_orbitals = molecule.num_orbitals * 2\n",
    "ferOp = FermionicOperator(h1=molecule.one_body_integrals, h2=molecule.two_body_integrals)\n",
    "qubitOp = ferOp.mapping(map_type='parity', threshold=0.00000001)"
   ]
  },
  {
   "cell_type": "code",
   "execution_count": 4,
   "metadata": {
    "cellId": "db951ea4-4c6c-4d23-903c-95253ccd978f",
    "slideshow": {
     "slide_type": "slide"
    }
   },
   "outputs": [
    {
     "name": "stdout",
     "output_type": "stream",
     "text": [
      "Representation: paulis, qubits: 12, size: 631\n"
     ]
    }
   ],
   "source": [
    "# print(Z2Symmetries.find_Z2_symmetries(qubitOp))\n",
    "print(qubitOp)"
   ]
  },
  {
   "cell_type": "markdown",
   "metadata": {
    "cellId": "4d83b562-4a6d-4e97-9280-d15795659d5c",
    "slideshow": {
     "slide_type": "slide"
    }
   },
   "source": [
    "<img src=\"qcqc/slide4.png\" height=\"750\" width=\"900\" />"
   ]
  },
  {
   "cell_type": "markdown",
   "metadata": {
    "cellId": "8dd727b0-b4f6-4105-b485-60fe1bc1273f",
    "slideshow": {
     "slide_type": "-"
    }
   },
   "source": [
    "<img src=\"qcqc/slide5.png\" height=\"750\" width=\"900\" />"
   ]
  },
  {
   "cell_type": "markdown",
   "metadata": {
    "cellId": "e3f2a706-b114-472a-8a7a-975300d2c278",
    "slideshow": {
     "slide_type": "slide"
    }
   },
   "source": [
    "<img src=\"qcqc/slide6.png\" height=\"750\" width=\"900\" />"
   ]
  },
  {
   "cell_type": "code",
   "execution_count": null,
   "metadata": {},
   "outputs": [],
   "source": []
  }
 ],
 "metadata": {
  "celltoolbar": "Slideshow",
  "kernelspec": {
   "display_name": "Python 3",
   "language": "python",
   "name": "python3"
  },
  "language_info": {
   "codemirror_mode": {
    "name": "ipython",
    "version": 3
   },
   "file_extension": ".py",
   "mimetype": "text/x-python",
   "name": "python",
   "nbconvert_exporter": "python",
   "pygments_lexer": "ipython3",
   "version": "3.7.6"
  },
  "widgets": {
   "application/vnd.jupyter.widget-state+json": {
    "state": {},
    "version_major": 2,
    "version_minor": 0
   }
  }
 },
 "nbformat": 4,
 "nbformat_minor": 4
}
