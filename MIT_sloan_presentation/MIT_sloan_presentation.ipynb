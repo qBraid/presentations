{
 "cells": [
  {
   "cell_type": "markdown",
   "metadata": {
    "slideshow": {
     "slide_type": "slide"
    }
   },
   "source": [
    "<img src=\"./MIT_sloan_presentation/slide1.png\" height=\"600\" width=\"700\" />"
   ]
  },
  {
   "cell_type": "markdown",
   "metadata": {
    "slideshow": {
     "slide_type": "slide"
    }
   },
   "source": [
    "<img src=\"./MIT_sloan_presentation/slide2.png\" height=\"600\" width=\"700\" />"
   ]
  },
  {
   "cell_type": "markdown",
   "metadata": {
    "slideshow": {
     "slide_type": "slide"
    }
   },
   "source": [
    "<img src=\"./MIT_sloan_presentation/slide3.png\" height=\"600\" width=\"700\" />"
   ]
  },
  {
   "cell_type": "markdown",
   "metadata": {
    "slideshow": {
     "slide_type": "slide"
    }
   },
   "source": [
    "<img src=\"./MIT_sloan_presentation/slide4.png\" height=\"600\" width=\"700\" />"
   ]
  },
  {
   "cell_type": "markdown",
   "metadata": {
    "slideshow": {
     "slide_type": "slide"
    }
   },
   "source": [
    "<img src=\"./MIT_sloan_presentation/slide5.png\" height=\"600\" width=\"700\" />"
   ]
  },
  {
   "cell_type": "markdown",
   "metadata": {
    "slideshow": {
     "slide_type": "slide"
    }
   },
   "source": [
    "<img src=\"./MIT_sloan_presentation/slide6.png\" height=\"600\" width=\"700\" />"
   ]
  },
  {
   "cell_type": "markdown",
   "metadata": {
    "slideshow": {
     "slide_type": "slide"
    }
   },
   "source": [
    "<img src=\"./MIT_sloan_presentation/slide7.png\" height=\"600\" width=\"700\" />"
   ]
  },
  {
   "cell_type": "markdown",
   "metadata": {
    "slideshow": {
     "slide_type": "slide"
    }
   },
   "source": [
    "<img src=\"./MIT_sloan_presentation/slide8.png\" height=\"600\" width=\"700\" />"
   ]
  },
  {
   "cell_type": "markdown",
   "metadata": {
    "slideshow": {
     "slide_type": "slide"
    }
   },
   "source": [
    "<img src=\"./MIT_sloan_presentation/slide9.png\" height=\"600\" width=\"700\" />"
   ]
  },
  {
   "cell_type": "markdown",
   "metadata": {
    "slideshow": {
     "slide_type": "slide"
    }
   },
   "source": [
    "<img src=\"./MIT_sloan_presentation/slide10.png\" height=\"600\" width=\"700\" />"
   ]
  },
  {
   "cell_type": "code",
   "execution_count": 1,
   "metadata": {
    "slideshow": {
     "slide_type": "slide"
    }
   },
   "outputs": [
    {
     "data": {
      "image/png": "[encoded data removed]",
      "text/plain": [
       "<Figure size 206.852x204.68 with 1 Axes>"
      ]
     },
     "execution_count": 1,
     "metadata": {},
     "output_type": "execute_result"
    }
   ],
   "source": [
    "from qiskit import QuantumCircuit, Aer, execute\n",
    "circ = QuantumCircuit(2,2)  #create QuantumCircuit object\n",
    "circ.h(0)  #add Hadamard gate to circuit\n",
    "circ.measure(0,1) #add a measurement to the circuit\n",
    "circ.draw(output='mpl') #draw circuit"
   ]
  },
  {
   "cell_type": "markdown",
   "metadata": {
    "slideshow": {
     "slide_type": "skip"
    }
   },
   "source": [
    "A very simple program with a simple gate. 1 quBit, 1 H[amadar] quantum gate"
   ]
  },
  {
   "cell_type": "code",
   "execution_count": 2,
   "metadata": {
    "slideshow": {
     "slide_type": "fragment"
    }
   },
   "outputs": [
    {
     "data": {
      "image/png": "[encoded data removed]",
      "text/plain": [
       "<Figure size 504x360 with 1 Axes>"
      ]
     },
     "execution_count": 2,
     "metadata": {},
     "output_type": "execute_result"
    }
   ],
   "source": [
    "from Simulate_Plot import *\n",
    "SimulatePlot(circ)"
   ]
  },
  {
   "cell_type": "markdown",
   "metadata": {
    "slideshow": {
     "slide_type": "slide"
    }
   },
   "source": [
    "<img src=\"./MIT_sloan_presentation/slide11.png\" height=\"600\" width=\"700\" />"
   ]
  },
  {
   "cell_type": "markdown",
   "metadata": {
    "slideshow": {
     "slide_type": "slide"
    }
   },
   "source": [
    "<center><font size=8 color='#7d159e'><b>In-depth discussion of \"Aloha, Quantum World!\"</b> </font></center>\n"
   ]
  },
  {
   "cell_type": "code",
   "execution_count": 2,
   "metadata": {
    "scrolled": true,
    "slideshow": {
     "slide_type": "fragment"
    }
   },
   "outputs": [
    {
     "name": "stdout",
     "output_type": "stream",
     "text": [
      "Hello World!\n",
      "Hello World!\n",
      "Bye World!\n"
     ]
    }
   ],
   "source": [
    "from python_funcs.demo_funcs import aloha_quantum_world\n",
    "aloha_quantum_world()\n",
    "aloha_quantum_world('quantum')\n",
    "aloha_quantum_world('quantum')"
   ]
  },
  {
   "cell_type": "markdown",
   "metadata": {},
   "source": [
    "# "
   ]
  },
  {
   "cell_type": "markdown",
   "metadata": {},
   "source": [
    "If we analyze the code for the aloha_quantum_world(), we see that the H-gate is applied to the qubit if first argument 'quantum' is passed. With H-gate the qubit is put in a state of superposition and prints 'Hello, World!' and 'Bye, World!' with 50% probability. You may ask that how is the behavior of a qubit in a superposition different than a bit whose state is determined by a coin lying on the ground after a flip in a dark room?\n",
    "\n",
    "It will become clear that these two cases are different with the following experiment. If rather than determining the state of the bit with a single coin flip, we were to determine it using two coin flips, one after another, then it can be seen that the state of the bit will remain random. Let us say that the bit starts in state 0 and if we were to determine the state of the bit after two coin flips then the probability of it being in '0' or '1' will still be 50%. \n",
    "In contrast, if we were to start with a qubit in state 0 and apply an H-gate and then apply another H-gate, then the state of the qubit will be '0' with 100% probability. As we saw that above that applying a single H-gate behaves like a coin flip, but surprisingly, two consecutive H-gates cancel each other. This gives you a flavor for why quantum world is different, interesting and may be a little bit bizare. To learn more about quantum computing, you can take the [QuBes Course](./Qubes_course/0_Introduction.ipynb).\n"
   ]
  },
  {
   "cell_type": "markdown",
   "metadata": {},
   "source": [
    "## Before that a variation on Hello, World!"
   ]
  },
  {
   "cell_type": "code",
   "execution_count": null,
   "metadata": {},
   "outputs": [],
   "source": [
    "for i in range(5):\n",
    "    aloha_quantum_world('quantum')"
   ]
  },
  {
   "cell_type": "code",
   "execution_count": null,
   "metadata": {},
   "outputs": [],
   "source": [
    "def hello_bye_world(bit_val):\n",
    "    if bit_val==0:\n",
    "        print('========================')\n",
    "        print('       Hello, World!')\n",
    "        print('========================')\n",
    "    elif bit_val==1:\n",
    "        print('========================')\n",
    "        print('       Bye, World!')\n",
    "        print('========================')\n",
    "        \n",
    "hello_bye_world(0)\n",
    "hello_bye_world(1)"
   ]
  },
  {
   "cell_type": "markdown",
   "metadata": {},
   "source": [
    "So, we can establish that the qubits can behave like bits and return the greeting corresponding to the value (Note 1).\n",
    "\n",
    "Recall that the there was only one single-bit possible in classical computing (Note 2). In constrast, quantum computing allows for an infinite number of single qubit gates and states of a qubit which are a superposition of '0' and '1'. Loosely speaking, the superposition implies that the qubit could both '0' and '1' at the same time* until one measures at which point the state of the qubit collapses to being '0' or '1'. \n",
    "\n",
    "Let's run the aloha_quantum_world('quantum'), 5 times.\n",
    "\n",
    "\n",
    "*(for precise definition, we encourage the reader to take the QuBes course on qBraid.com)"
   ]
  },
  {
   "cell_type": "markdown",
   "metadata": {},
   "source": [
    "It is easy to see that the bit can only have two values, 0 and 1. So, the function could run with only two inputs, as demonstrated above. We now ask, what are the different operations possible on a bit. \n",
    "\n",
    "Note 1: we wrote the program that takes an input bit and returns a string corresponding to the bit value.\n",
    "\n",
    "Now, we ask, what are the possible operations that can be performed on a bit? And it can be seen that the only non-trivial operation possible on a bit is the bit-flip, where one changes the value of the bit, $0 \\rightarrow 1$ and $0 \\rightarrow 1$. We can write the code for a function that implements the bit flip operation:"
   ]
  },
  {
   "cell_type": "code",
   "execution_count": null,
   "metadata": {},
   "outputs": [],
   "source": [
    "aloha_quantum_world('classical', True)"
   ]
  },
  {
   "cell_type": "code",
   "execution_count": null,
   "metadata": {},
   "outputs": [],
   "source": [
    "def bit_flip(bit_val):\n",
    "    return not bit_val"
   ]
  },
  {
   "cell_type": "markdown",
   "metadata": {},
   "source": [
    "The `aloha_quantum_world()` can also take an argument for applying an X-gate which is similar to the NOT-gate in classical computing. And it can be seen that the application of `aloha_quantum_world('classical', True)` prints 'Bye, World!'"
   ]
  },
  {
   "cell_type": "markdown",
   "metadata": {},
   "source": [
    "We can use this bit-flip function in conjunction with our hello_bye_world() function, to turn a hello world into a bye world."
   ]
  },
  {
   "cell_type": "code",
   "execution_count": null,
   "metadata": {},
   "outputs": [],
   "source": [
    "aloha_quantum_world()"
   ]
  },
  {
   "cell_type": "code",
   "execution_count": null,
   "metadata": {},
   "outputs": [],
   "source": [
    "bit_val=0\n",
    "hello_bye_world(bit_val)\n",
    "bit_val=bit_flip(bit_val)\n",
    "hello_bye_world(bit_val)"
   ]
  },
  {
   "cell_type": "markdown",
   "metadata": {},
   "source": [
    "The above program uses a 'qubit' or a quantum bit for two state system. A qubit just like a bit can be '0' or '1' state. If the aloha_quantum_world() is called without an argument, it initializes the qubit in state '0' and measures it. The measurement returns '0' and prints 'Hello, World!'"
   ]
  },
  {
   "cell_type": "markdown",
   "metadata": {},
   "source": [
    "Note 2: The only possible operation on a bit is a bit-flip operation.\n",
    "\n",
    "The program so far, is deterministic. We ask, how can we make a probabilistic 'Hello, World!' program. For that we write a coin flip program which returns each '0' and '1', 50% of the time.\n"
   ]
  },
  {
   "cell_type": "code",
   "execution_count": null,
   "metadata": {},
   "outputs": [],
   "source": [
    "def aloha_quantum_world(input_str='classical', applyX=False):\n",
    "    from qiskit import QuantumCircuit, Aer, execute\n",
    "    circ = QuantumCircuit(1,1) \n",
    "    if input_str=='quantum':\n",
    "        circ.h(0)\n",
    "    if applyX:\n",
    "        circ.x(0)\n",
    "    circ.measure([0],[0])\n",
    "\n",
    "    backend_sim = Aer.get_backend('qasm_simulator')\n",
    "    sim = execute(circ, backend_sim, shots=1)\n",
    "    sim_result = sim.result()\n",
    "    counts = sim_result.get_counts(circ)\n",
    "    for key in counts:\n",
    "        if key=='0':\n",
    "            print('Hello World!')\n",
    "        elif key=='1':\n",
    "            print('Bye World!')\n"
   ]
  },
  {
   "cell_type": "code",
   "execution_count": null,
   "metadata": {},
   "outputs": [],
   "source": [
    "def coin_flip():\n",
    "    import numpy as np\n",
    "    bit_val = np.random.randint(2)\n",
    "    return bit_val"
   ]
  },
  {
   "cell_type": "markdown",
   "metadata": {},
   "source": [
    "It can be checked by running the program multiple times that the outputs are random. \n",
    "\n",
    "Note 3: The randomness in the numbers generated by the numpy package arises out of some incomplete knowledge of the processes in the cpu of your computer.\n",
    "\n",
    "Now, we finally move on to the aloha_quantum_world('quantum') program. Following is the code for the `aloha_quantum_world()`:\n"
   ]
  },
  {
   "cell_type": "markdown",
   "metadata": {},
   "source": [
    "With this program we can write a small program for printing 'Hello, World!' and 'Bye, World!' randomly.\n"
   ]
  },
  {
   "cell_type": "code",
   "execution_count": null,
   "metadata": {},
   "outputs": [],
   "source": [
    "hello_bye_world(coin_flip())"
   ]
  }
 ],
 "metadata": {
  "celltoolbar": "Slideshow",
  "kernelspec": {
   "display_name": "Python 3",
   "language": "python",
   "name": "python3"
  },
  "language_info": {
   "codemirror_mode": {
    "name": "ipython",
    "version": 3
   },
   "file_extension": ".py",
   "mimetype": "text/x-python",
   "name": "python",
   "nbconvert_exporter": "python",
   "pygments_lexer": "ipython3",
   "version": "3.7.6"
  }
 },
 "nbformat": 4,
 "nbformat_minor": 4
}
